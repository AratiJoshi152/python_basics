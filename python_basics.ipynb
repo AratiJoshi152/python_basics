{
  "nbformat": 4,
  "nbformat_minor": 0,
  "metadata": {
    "colab": {
      "provenance": []
    },
    "kernelspec": {
      "name": "python3",
      "display_name": "Python 3"
    },
    "language_info": {
      "name": "python"
    }
  },
  "cells": [
    {
      "cell_type": "markdown",
      "source": [
        "**Python Basic Questions**"
      ],
      "metadata": {
        "id": "AiGoNgTPA1s4"
      }
    },
    {
      "cell_type": "markdown",
      "source": [
        "1. What is an interpreter in Python?\n",
        "\n",
        "Ans.\n",
        "\n",
        "* Interpreter translate and execute the code line by line during runtime\n",
        "\n",
        "* Execution: It reads and execute the code one statement at a time\n",
        "\n",
        "* Speed: It is slower because translation happens during execution\n",
        "\n",
        "* Error Handling: Stops at the first error and shows it immediately\n",
        "\n",
        "* Output: No separate output file; it just runs the program\n"
      ],
      "metadata": {
        "id": "73wiJQo87uGe"
      }
    },
    {
      "cell_type": "markdown",
      "source": [
        "2. What is Python, and why is it popular?\n",
        "\n",
        "Ans.\n",
        "\n",
        "* Python is a language used to communicate between humans to machines(computer) through instructions.\n",
        "\n",
        "* It’s popular because:\n",
        "  - Easy to Understand – Simple syntax, close to English, easy for beginners.\n",
        "  -  Versatility: Works across multiple domains\n",
        "  - Strong community\n",
        "  - Integration and capability\n",
        "  - Strong Support for Data Science & AI\n",
        "  - Cross-Platform & Open Source\n",
        "  - Extensive libraries for Data Science\n"
      ],
      "metadata": {
        "id": "yLcUYpjE7rUZ"
      }
    },
    {
      "cell_type": "markdown",
      "source": [
        "3. What are pre-defined keywords in Python?\n",
        "\n",
        "Ans.\n",
        "\n",
        "* Pre- defined keywords are reserved words in python that have a special meaning to the python interpreter.\n",
        "* They cannot be redefined or used as identifiers\n",
        "* They are used to define the syntax and structure of the language.\n",
        "* We cannot use them as variable names, function names or identifiers.\n"
      ],
      "metadata": {
        "id": "Qi8hW6Tv8mxr"
      }
    },
    {
      "cell_type": "markdown",
      "source": [
        "4. Can keywords be used as variable names?\n",
        "\n",
        "Ans.\n",
        "\n",
        "* Keywords are reserved words in python, so they cannot be used as variable names, function names, or identifiers.\n",
        "* If we try to do so, python will throw a SyntaxError because it gets confused between the keywords meaning and variable.\n"
      ],
      "metadata": {
        "id": "XW14Ow3V8muS"
      }
    },
    {
      "cell_type": "markdown",
      "source": [
        "5. What is mutability in Python?\n",
        "\n",
        "Ans.\n",
        "\n",
        "* Objects/containers whose state or value can be changed after they are created are called mutable objects or containers.\n"
      ],
      "metadata": {
        "id": "3-TN8cDn8mrt"
      }
    },
    {
      "cell_type": "markdown",
      "source": [
        "6. Why are lists mutable, but tuples are immutable\n",
        "\n",
        "Ans.\n",
        "\n",
        "* Lists are mutable, we can change the list values after creating the list.\n",
        "* Tuples are immutable, we cannot change the tuple values after creating the tuple.\n"
      ],
      "metadata": {
        "id": "kMNW7K2M8mpu"
      }
    },
    {
      "cell_type": "markdown",
      "source": [
        "7. What is the difference between “==” and “is” operators in Python?\n",
        "\n",
        "Ans.\n",
        "\n",
        "* “==” : this is a comparison operator. It verifies that both the values are the same.\n",
        "* “is”: this is also a comparison operator. It checks whether two variables refer to the same object in memory\n"
      ],
      "metadata": {
        "id": "aw6Ynk749rvJ"
      }
    },
    {
      "cell_type": "markdown",
      "source": [
        "8. What are logical operators in Python?\n",
        "\n",
        "Ans.\n",
        "* Logical operators are used to combine conditional statements and return a boolean value as a result (True or false).\n",
        "* Logical operators:\n",
        "  - and: it returns True if both conditions are true else return False.\n",
        "  - or: It returns True if at least one condition is true else it returns False.\n",
        "  - not: it reverses the result; returns True if the condition is false and returns False if condition is true.\n"
      ],
      "metadata": {
        "id": "sWawFT379sAC"
      }
    },
    {
      "cell_type": "markdown",
      "source": [
        "9. What is type casting in Python?\n",
        "\n",
        "Ans.\n",
        "\n",
        "* Type casting means type conversion, it is the process of converting one data type into another.\n",
        "* Process of changing the data type.\n",
        "* There are two types of type casting:\n",
        "* Implicit type casting: Implicit type casting, python understands the data type.\n",
        "* Explicit type casting: Explicit type casting, python doesn’t understand the data type. Conversion is done using the inbuilt functions.\n"
      ],
      "metadata": {
        "id": "wpnfznZH9r8n"
      }
    },
    {
      "cell_type": "markdown",
      "source": [
        "10. What is the difference between implicit and explicit type casting?\n",
        "\n",
        "Ans.\n",
        "\n",
        "* Implicit type casting:\n",
        "  - Implicit type casting, python understands the data type.\n",
        "  - It is done automatically in python.\n",
        "  - The interpreter converts smaller data type into larger ones to avoid data loss.\n",
        "* Explicit type casting:\n",
        "  - Explicit type casting, python doesn’t understand the data type.\n",
        "  - Conversion is done using the inbuilt functions.\n",
        "  - int(), float(), str()\n"
      ],
      "metadata": {
        "id": "vMTOO-eY9r6e"
      }
    },
    {
      "cell_type": "markdown",
      "source": [
        "11. What is the purpose of conditional statements in Python?\n",
        "\n",
        "Ans.\n",
        "\n",
        "* Conditional statements are used to make decisions in the code.\n",
        "* They allow the program to execute certain blocks of code only when specific conditions are true.\n",
        "* It makes the programs dynamic and logical instead of executing everything sequentially.\n",
        "* Helps in controlling the flow of execution."
      ],
      "metadata": {
        "id": "3kPa6VMv99mw"
      }
    },
    {
      "cell_type": "markdown",
      "source": [
        "12. How does the elif statement work\n",
        "\n",
        "Ans.\n",
        "\n",
        "* elif means “else if”.\n",
        "* It is used to check multiple instead of just one(if) and a fallback(else).\n",
        "* Python executes the conditions from top to bottom:\n",
        "  - If the first if is True, that block runs and others are skipped.\n",
        "  - If not, python checks the elif conditions.\n",
        "  - If an elif is True, that block runs and the rest are ignored.\n",
        "  - If none are True, the else block runs.\n"
      ],
      "metadata": {
        "id": "_I8E6jPC9r4Y"
      }
    },
    {
      "cell_type": "markdown",
      "source": [
        "13. What is the difference between for and while loops?\n",
        "\n",
        "Ans.\n",
        "\n",
        "* For loop:\n",
        "  - for loop is used when we know the number of iterations in advance.\n",
        "  - for loop is best for iterating through lists, tuples, strings, ranges etc.\n",
        "  - It automatically stops when the sequence ends.\n",
        "* While loop:\n",
        "  - While loop is used when the number of iterations is not known beforehand.\n",
        "  - while loop is best for running a block of code until a certain condition is met.\n",
        "  - It manually update the condition inside the loop to avoid infinite loops\n"
      ],
      "metadata": {
        "id": "gcuUVEkh9rzj"
      }
    },
    {
      "cell_type": "markdown",
      "source": [
        "14. Describe a scenario where a while loop is more suitable than a for loop.\n",
        "\n",
        "Ans.\n",
        "* A while loop is better when we don’t know in advance how many times the loop should run, and the loop depends on a condition being true instead of a fixed range.\n",
        "* Suppose we are writing a program where a user keeps entering numbers until they type \"stop\".\n",
        "* we don’t know how many inputs the user will give.\n",
        "* A for loop won’t fit well because it expects a defined range or sequence.\n",
        "* A while loop is perfect here, since it runs until the condition is met."
      ],
      "metadata": {
        "id": "fBw1fup399sD"
      }
    },
    {
      "cell_type": "markdown",
      "source": [
        "**Practical Questions**"
      ],
      "metadata": {
        "id": "BGZdbVUHAtNM"
      }
    },
    {
      "cell_type": "code",
      "source": [
        "#1. Write a Python program to print \"Hello, World!\"\n",
        "print(\"Hello, World!\")"
      ],
      "metadata": {
        "colab": {
          "base_uri": "https://localhost:8080/"
        },
        "id": "WANAGCEL-TRQ",
        "outputId": "c0740295-fb73-461a-8e07-0c3a04a629aa"
      },
      "execution_count": null,
      "outputs": [
        {
          "output_type": "stream",
          "name": "stdout",
          "text": [
            "Hello, World!\n"
          ]
        }
      ]
    },
    {
      "cell_type": "code",
      "source": [
        "#2. Write a Python program that displays your name and age\n",
        "name = \"Arati\"\n",
        "age = 25\n",
        "\n",
        "print(\"Name:\", name)\n",
        "print(\"Age:\", age)"
      ],
      "metadata": {
        "colab": {
          "base_uri": "https://localhost:8080/"
        },
        "id": "b-hik37eBLJz",
        "outputId": "230f6b5e-f8f5-4d60-e2d6-f515018c07b6"
      },
      "execution_count": null,
      "outputs": [
        {
          "output_type": "stream",
          "name": "stdout",
          "text": [
            "Name: Arati\n",
            "Age: 25\n"
          ]
        }
      ]
    },
    {
      "cell_type": "code",
      "source": [
        "#3. Write code to print all the pre-defined keywords in Python using the keyword library\n",
        "help('keywords')\n"
      ],
      "metadata": {
        "colab": {
          "base_uri": "https://localhost:8080/"
        },
        "id": "hR_lMPDFBLGV",
        "outputId": "856748cd-350b-4bd5-c51e-78d1539c34b2"
      },
      "execution_count": null,
      "outputs": [
        {
          "output_type": "stream",
          "name": "stdout",
          "text": [
            "\n",
            "Here is a list of the Python keywords.  Enter any keyword to get more help.\n",
            "\n",
            "False               class               from                or\n",
            "None                continue            global              pass\n",
            "True                def                 if                  raise\n",
            "and                 del                 import              return\n",
            "as                  elif                in                  try\n",
            "assert              else                is                  while\n",
            "async               except              lambda              with\n",
            "await               finally             nonlocal            yield\n",
            "break               for                 not                 \n",
            "\n"
          ]
        }
      ]
    },
    {
      "cell_type": "code",
      "source": [
        "#4. Write a program that checks if a given word is a Python keyword.\n",
        "import keyword\n",
        "\n",
        "word = input(\"Enter a word: \")\n",
        "if keyword.iskeyword(word):\n",
        "    print(f\"'{word}' is a Python keyword\")\n",
        "else:\n",
        "    print(f\"'{word}' is NOT a Python keyword\")"
      ],
      "metadata": {
        "colab": {
          "base_uri": "https://localhost:8080/"
        },
        "id": "bD6EOhAkBLDS",
        "outputId": "9aeeb824-b2b3-4b06-d99d-d0e46baadfab"
      },
      "execution_count": null,
      "outputs": [
        {
          "output_type": "stream",
          "name": "stdout",
          "text": [
            "Enter a word: now\n",
            "'now' is NOT a Python keyword\n"
          ]
        }
      ]
    },
    {
      "cell_type": "code",
      "source": [
        "#5. Create a list and tuple in Python, and\n",
        "#demonstrate how attempting to change an element works differently for each.\n",
        "my_list = [10, 20, 30, 40]\n",
        "my_tuple = (10, 20, 30, 40)\n",
        "\n",
        "print(\"Original List:\", my_list)\n",
        "print(\"Original Tuple:\", my_tuple)\n",
        "\n",
        "my_list[1] = 99\n",
        "print(\"Modified List:\", my_list)\n",
        "\n",
        "#tuple is immutable, this will throw an error\n",
        "my_tuple[1] = 99\n"
      ],
      "metadata": {
        "colab": {
          "base_uri": "https://localhost:8080/",
          "height": 228
        },
        "id": "9nkfm9k5BLAY",
        "outputId": "d762e4b3-8eda-4dbf-e26e-5e36ead9618a"
      },
      "execution_count": null,
      "outputs": [
        {
          "output_type": "stream",
          "name": "stdout",
          "text": [
            "Original List: [10, 20, 30, 40]\n",
            "Original Tuple: (10, 20, 30, 40)\n",
            "Modified List: [10, 99, 30, 40]\n"
          ]
        },
        {
          "output_type": "error",
          "ename": "TypeError",
          "evalue": "'tuple' object does not support item assignment",
          "traceback": [
            "\u001b[0;31m---------------------------------------------------------------------------\u001b[0m",
            "\u001b[0;31mTypeError\u001b[0m                                 Traceback (most recent call last)",
            "\u001b[0;32m/tmp/ipython-input-3490259365.py\u001b[0m in \u001b[0;36m<cell line: 0>\u001b[0;34m()\u001b[0m\n\u001b[1;32m     10\u001b[0m \u001b[0mprint\u001b[0m\u001b[0;34m(\u001b[0m\u001b[0;34m\"Modified List:\"\u001b[0m\u001b[0;34m,\u001b[0m \u001b[0mmy_list\u001b[0m\u001b[0;34m)\u001b[0m\u001b[0;34m\u001b[0m\u001b[0;34m\u001b[0m\u001b[0m\n\u001b[1;32m     11\u001b[0m \u001b[0;34m\u001b[0m\u001b[0m\n\u001b[0;32m---> 12\u001b[0;31m \u001b[0mmy_tuple\u001b[0m\u001b[0;34m[\u001b[0m\u001b[0;36m1\u001b[0m\u001b[0;34m]\u001b[0m \u001b[0;34m=\u001b[0m \u001b[0;36m99\u001b[0m\u001b[0;34m\u001b[0m\u001b[0;34m\u001b[0m\u001b[0m\n\u001b[0m",
            "\u001b[0;31mTypeError\u001b[0m: 'tuple' object does not support item assignment"
          ]
        }
      ]
    },
    {
      "cell_type": "code",
      "source": [
        "#6. Write a function to demonstrate the behavior of mutable and immutable arguments.\n",
        "def modify_values(num, my_list):\n",
        "    num += 10\n",
        "\n",
        "    my_list.append(99)\n",
        "    print(\"Inside function:\")\n",
        "    print(\"num =\", num)\n",
        "    print(\"my_list =\", my_list)\n",
        "\n",
        "x = 5\n",
        "y = [1, 2, 3]\n",
        "\n",
        "print(\"Before function call:\")\n",
        "print(\"x =\", x)\n",
        "print(\"y =\", y)\n",
        "\n",
        "modify_values(x, y)\n",
        "\n",
        "print(\"\\nAfter function call:\")\n",
        "#the value of x will remain unchanged\n",
        "print(\"x =\", x)\n",
        "#the value of y will change\n",
        "print(\"y =\", y)\n"
      ],
      "metadata": {
        "colab": {
          "base_uri": "https://localhost:8080/"
        },
        "id": "91JniSRWBK9f",
        "outputId": "85a3173c-cb35-4484-88f7-e6ad0e24861a"
      },
      "execution_count": null,
      "outputs": [
        {
          "output_type": "stream",
          "name": "stdout",
          "text": [
            "Before function call:\n",
            "x = 5\n",
            "y = [1, 2, 3]\n",
            "Inside function:\n",
            "num = 15\n",
            "my_list = [1, 2, 3, 99]\n",
            "\n",
            "After function call:\n",
            "x = 5\n",
            "y = [1, 2, 3, 99]\n"
          ]
        }
      ]
    },
    {
      "cell_type": "code",
      "source": [
        "#7. Write a program that performs basic arithmetic operations on two user-input numbers.\n",
        "\n",
        "num1 = int(input(\"Enter first number: \"))\n",
        "num2 = int(input(\"Enter second number: \"))\n",
        "\n",
        "# arithmetic operations\n",
        "print(\"\\nResults:\")\n",
        "print(\"Addition:\", num1 + num2)\n",
        "print(\"Subtraction:\", num1 - num2)\n",
        "print(\"Multiplication:\", num1 * num2)\n",
        "\n",
        "# this will Check for division by zero\n",
        "if num2 != 0:\n",
        "    print(\"Division:\", num1 / num2)\n",
        "    print(\"Floor Division:\", num1 // num2)\n",
        "    print(\"Modulus:\", num1 % num2)\n",
        "else:\n",
        "    print(\"Arithmetic operation (Division, Floor Division & Modulus) is Not possible (division by zero)\")\n",
        "\n",
        "print(\"Exponentiation:\", num1 ** num2)\n"
      ],
      "metadata": {
        "colab": {
          "base_uri": "https://localhost:8080/"
        },
        "id": "Jpx86j8lBK6t",
        "outputId": "30009d2f-5a5b-4a31-cfee-c527bab8b66c"
      },
      "execution_count": null,
      "outputs": [
        {
          "output_type": "stream",
          "name": "stdout",
          "text": [
            "Enter first number: 15\n",
            "Enter second number: 10\n",
            "\n",
            "Results:\n",
            "Addition: 25\n",
            "Subtraction: 5\n",
            "Multiplication: 150\n",
            "Division: 1.5\n",
            "Floor Division: 1\n",
            "Modulus: 5\n",
            "Exponentiation: 576650390625\n"
          ]
        }
      ]
    },
    {
      "cell_type": "code",
      "source": [
        "#8. Write a program to demonstrate the use of logical operators.\n",
        "a = int(input(\"Enter first number: \"))\n",
        "b = int(input(\"Enter second number: \"))\n",
        "\n",
        "print(\"\\nLogical Operators:\")\n",
        "\n",
        "# AND operator\n",
        "if a > 0 and b > 0:\n",
        "    print(\"Both numbers are positive, AND condition is True.\")\n",
        "else:\n",
        "    print(\"At least one number is not positive, AND condition is False.\")\n",
        "\n",
        "# OR operator\n",
        "if a > 0 or b > 0:\n",
        "    print(\"At least one number is positive, OR condition is True.\")\n",
        "else:\n",
        "    print(\"Both numbers are not positive, OR condition is False.\")\n",
        "\n",
        "# NOT operator\n",
        "print(\"NOT operator example:\")\n",
        "print(\"a > b is\", a > b)\n",
        "print(\"not(a > b) is\", not(a > b))\n"
      ],
      "metadata": {
        "colab": {
          "base_uri": "https://localhost:8080/"
        },
        "id": "BhISDVu4BK4J",
        "outputId": "297afe84-c22a-4661-beb6-65c47347a549"
      },
      "execution_count": null,
      "outputs": [
        {
          "output_type": "stream",
          "name": "stdout",
          "text": [
            "Enter first number: 20\n",
            "Enter second number: 30\n",
            "\n",
            "Logical Operators:\n",
            "Both numbers are positive, AND condition is True.\n",
            "At least one number is positive, OR condition is True.\n",
            "NOT operator example:\n",
            "a > b is False\n",
            "not(a > b) is True\n"
          ]
        }
      ]
    },
    {
      "cell_type": "code",
      "source": [
        "#9. Write a Python program to convert user input from string to integer, float, and boolean types.\n",
        "# Take input from the user\n",
        "user_input = input(\"Enter something: \")\n",
        "\n",
        "print(\"\\nType Conversions:\")\n",
        "\n",
        "# Check if input is numeric for int and float conversions\n",
        "if user_input.isdigit():\n",
        "    int_value = int(user_input)\n",
        "    print(\"String to Integer:\", int_value, \"| Type:\", type(int_value))\n",
        "\n",
        "    float_value = float(user_input)\n",
        "    print(\"String to Float:\", float_value, \"| Type:\", type(float_value))\n",
        "elif user_input.replace('.', '', 1).isdigit() and user_input.count('.') < 2:\n",
        "    # handles decimal numbers\n",
        "    float_value = float(user_input)\n",
        "    print(\"String to Float:\", float_value, \"| Type:\", type(float_value))\n",
        "    print(\"String to Integer is Not possible\")\n",
        "else:\n",
        "    print(\"String to Integer Conversion is Not possible\")\n",
        "    print(\"String to Float is Not possible\")\n",
        "\n",
        "# Boolean conversion (any non-empty string to True, empty to False)\n",
        "bool_value = bool(user_input)\n",
        "print(\"String to Boolean:\", bool_value, \"| Type:\", type(bool_value))\n",
        "\n"
      ],
      "metadata": {
        "colab": {
          "base_uri": "https://localhost:8080/"
        },
        "id": "X7MPfAevBK1O",
        "outputId": "3207fc4e-004b-401a-cc00-c2f56161af98"
      },
      "execution_count": null,
      "outputs": [
        {
          "output_type": "stream",
          "name": "stdout",
          "text": [
            "Enter something: 12.4\n",
            "\n",
            "Type Conversions:\n",
            "String to Float: 12.4 | Type: <class 'float'>\n",
            "String to Integer is Not possible\n",
            "String to Boolean: True | Type: <class 'bool'>\n"
          ]
        }
      ]
    },
    {
      "cell_type": "code",
      "source": [
        "#10. Write code to demonstrate type casting with list elements.\n",
        "my_list = [\"10\", -20, \"30\", 0, \"40.5\", False, \"50.9\", True]\n",
        "print(\"Original list: \", my_list)\n",
        "\n",
        "#all list elements to integer\n",
        "int_list = [int(float(x)) for x in my_list]\n",
        "print(\"List after type conversion, list elements into Integer:\", int_list)\n",
        "\n",
        "#all list elements to float\n",
        "float_list = [float(x) for x in my_list]\n",
        "print(\"List after type conversion, list elements into Float:\", float_list)\n",
        "\n",
        "#all list elements to string\n",
        "string_list = [str(x) for x in my_list]\n",
        "print(\"List after type conversion, list elements into String:\", string_list)\n",
        "\n",
        "#all list elements to boolean\n",
        "boolean_list = [bool(x) for x in my_list]\n",
        "print(\"List after type conversion, list elements into Boolean:\", boolean_list)\n"
      ],
      "metadata": {
        "colab": {
          "base_uri": "https://localhost:8080/"
        },
        "id": "Yvm2aik_BKyc",
        "outputId": "1d163a7b-a78f-4e51-f5d2-7c7f78bdb0e4"
      },
      "execution_count": null,
      "outputs": [
        {
          "output_type": "stream",
          "name": "stdout",
          "text": [
            "Original list:  ['10', -20, '30', 0, '40.5', False, '50.9', True]\n",
            "List after type conversion, list elements into Integer: [10, -20, 30, 0, 40, 0, 50, 1]\n",
            "List after type conversion, list elements into Float: [10.0, -20.0, 30.0, 0.0, 40.5, 0.0, 50.9, 1.0]\n",
            "List after type conversion, list elements into String: ['10', '-20', '30', '0', '40.5', 'False', '50.9', 'True']\n",
            "List after type conversion, list elements into Boolean: [True, True, True, False, True, False, True, True]\n"
          ]
        }
      ]
    },
    {
      "cell_type": "code",
      "source": [
        "#11. Write a program that checks if a number is positive, negative, or zero.\n",
        "\n",
        "num = float(input(\"Enter a number: \"))\n",
        "\n",
        "if num > 0:\n",
        "    print(f\"{num} is Positive.\")\n",
        "elif num < 0:\n",
        "    print(f\"{num} is Negative.\")\n",
        "else:\n",
        "    print(\"The number is Zero.\")\n",
        "\n"
      ],
      "metadata": {
        "colab": {
          "base_uri": "https://localhost:8080/"
        },
        "id": "k2OeVuzJBKr5",
        "outputId": "fadffe27-5076-4609-dff1-bcc33cbf305f"
      },
      "execution_count": null,
      "outputs": [
        {
          "output_type": "stream",
          "name": "stdout",
          "text": [
            "Enter a number: 0\n",
            "The number is Zero.\n"
          ]
        }
      ]
    },
    {
      "cell_type": "code",
      "source": [
        "#12. Write a for loop to print numbers from 1 to 10.\n",
        "for i in range(1,11):\n",
        "  print(i)"
      ],
      "metadata": {
        "colab": {
          "base_uri": "https://localhost:8080/"
        },
        "id": "F08hY22mBKjK",
        "outputId": "96df5cbe-823f-468a-aa27-166eceda7f9b"
      },
      "execution_count": null,
      "outputs": [
        {
          "output_type": "stream",
          "name": "stdout",
          "text": [
            "1\n",
            "2\n",
            "3\n",
            "4\n",
            "5\n",
            "6\n",
            "7\n",
            "8\n",
            "9\n",
            "10\n"
          ]
        }
      ]
    },
    {
      "cell_type": "code",
      "source": [
        "#13. Write a Python program to find the sum of all even numbers between 1 and 50.\n",
        "\n",
        "# even_sum = 0\n",
        "# for num in range(1, 51):\n",
        "#     if num % 2 == 0:\n",
        "#         even_sum += num\n",
        "\n",
        "even_sum = sum(range(2, 51, 2))\n",
        "\n",
        "print(\"Sum of even numbers between 1 and 50 is:\", even_sum)\n"
      ],
      "metadata": {
        "colab": {
          "base_uri": "https://localhost:8080/"
        },
        "id": "hNh7rzALBKWp",
        "outputId": "38be10a0-8d11-42aa-f401-66cd7db4b3a0"
      },
      "execution_count": null,
      "outputs": [
        {
          "output_type": "stream",
          "name": "stdout",
          "text": [
            "Sum of even numbers between 1 and 50 is: 650\n"
          ]
        }
      ]
    },
    {
      "cell_type": "code",
      "source": [
        "#14. Write a program to reverse a string using a while loop.\n",
        "string_value = input(\"Enter a string: \")\n",
        "\n",
        "reversed_string = \"\"\n",
        "i = len(string_value) -1\n",
        "\n",
        "while i >= 0:\n",
        "    reversed_string += string_value[i]\n",
        "    i -= 1\n",
        "print(\"Original String:\", string_value)\n",
        "print(\"Reversed String:\", reversed_string)"
      ],
      "metadata": {
        "colab": {
          "base_uri": "https://localhost:8080/"
        },
        "id": "IZAmQkjYCukJ",
        "outputId": "db805622-ba21-47de-d91a-0dac0b63664f"
      },
      "execution_count": null,
      "outputs": [
        {
          "output_type": "stream",
          "name": "stdout",
          "text": [
            "Enter a string: arati\n",
            "Original String: arati\n",
            "Reversed String: itara\n"
          ]
        }
      ]
    },
    {
      "cell_type": "code",
      "source": [
        "#15. Write a Python program to calculate the factorial of a number provided by the user using a while loop.\n",
        "num = int(input(\"Enter a number: \"))\n",
        "\n",
        "factorial = 1\n",
        "i = 1\n",
        "\n",
        "while i <= num:\n",
        "    factorial *= i\n",
        "    i += 1\n",
        "\n",
        "print(f\"Factorial of {num} is: {factorial}\")\n"
      ],
      "metadata": {
        "colab": {
          "base_uri": "https://localhost:8080/"
        },
        "id": "0oj0khMkCxTf",
        "outputId": "381e29e0-09a3-4c1e-f2ff-a07fb74e7bf1"
      },
      "execution_count": null,
      "outputs": [
        {
          "output_type": "stream",
          "name": "stdout",
          "text": [
            "Enter a number: 5\n",
            "Factorial of 5 is: 120\n"
          ]
        }
      ]
    }
  ]
}